{
 "cells": [
  {
   "cell_type": "markdown",
   "source": [
    "# Index for Sameness Classification"
   ],
   "metadata": {}
  },
  {
   "cell_type": "markdown",
   "source": [
    "See [**README.md**](README.md) for setup notes."
   ],
   "metadata": {}
  },
  {
   "cell_type": "markdown",
   "source": [
    "## Code"
   ],
   "metadata": {}
  },
  {
   "cell_type": "markdown",
   "source": [
    "[datasets.py](datasets.py)  \n",
    "dataset (caching etc.), train data args\n",
    "\n",
    "[metrics.py](metrics.py)  \n",
    "simple evaluation metrics\n",
    "\n",
    "[processors.py](processors.py)  \n",
    "dataset loading (TSV), processor lookup (task definitions?)  \n",
    "(_own processors in conversion code_)\n",
    "\n",
    "[trainer.py](trainer.py)  \n",
    "main run script, model args\n",
    "\n",
    "[utils.py](utils.py)  \n",
    "optional utilities (`Timer` for timed sections)\n",
    "\n",
    "[data_prep.py](data_prep.py)  \n",
    "utility functions for data preparation, like loading, shuffling, filtering and writing TSVs\n"
   ],
   "metadata": {}
  },
  {
   "cell_type": "markdown",
   "source": [
    "**NOTE:** Changed the original `Trainer` to use `do_test` for test evaluation, and to use `do_predict` for predictions not on `test.tsv` but on `pred.tsv`."
   ],
   "metadata": {}
  },
  {
   "cell_type": "markdown",
   "source": [
    "---"
   ],
   "metadata": {}
  },
  {
   "cell_type": "markdown",
   "source": [
    "**NOTE**: also changed convention to use `test.tsv` for test evaluation and `pred.tsv` for predictions  \n",
    "_Side-note: just symlink `pred.tsv` &rarr; `test.tsv`_"
   ],
   "metadata": {}
  },
  {
   "cell_type": "markdown",
   "source": [
    "## Notebooks"
   ],
   "metadata": {}
  },
  {
   "cell_type": "markdown",
   "source": [
    "[D1_samestance_base.ipynb](D1_samestance_base.ipynb)  \n",
    "Conversion of samestance (argmining19 webis) data\n",
    "\n",
    "- within & cross topic\n",
    "- train/dev/test; train/dev with 80:20 split (?)"
   ],
   "metadata": {}
  }
 ],
 "metadata": {
  "kernelspec": {
   "display_name": "Python 3",
   "language": "python",
   "name": "python3"
  },
  "language_info": {
   "codemirror_mode": {
    "name": "ipython",
    "version": 3
   },
   "file_extension": ".py",
   "mimetype": "text/x-python",
   "name": "python",
   "nbconvert_exporter": "python",
   "pygments_lexer": "ipython3",
   "version": "3.8.5"
  }
 },
 "nbformat": 4,
 "nbformat_minor": 4
}