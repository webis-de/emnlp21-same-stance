{
 "cells": [
  {
   "cell_type": "code",
   "execution_count": 11,
   "metadata": {},
   "outputs": [],
   "source": [
    "from simpletransformers.classification import ClassificationModel\n",
    "import pandas as pd\n",
    "import sklearn\n",
    "import logging\n",
    "from pathlib import Path \n",
    "\n",
    "from sklearn.model_selection import train_test_split\n",
    "\n",
    "logging.basicConfig(level=logging.INFO)\n",
    "transformers_logger = logging.getLogger(\"transformers\")\n",
    "transformers_logger.setLevel(logging.WARNING)"
   ]
  },
  {
   "cell_type": "code",
   "execution_count": 4,
   "metadata": {},
   "outputs": [],
   "source": [
    "def get_train_args(model_name):\n",
    "    train_args = {\n",
    "        \"output_dir\": \"reproduction_exp2/\" + model_name,\n",
    "        \"cache_dir\": \"cache/\",\n",
    "        \"best_model_dir\": \"reproduction_exp2/\" + model_name + \"/best_model/\",\n",
    "\n",
    "        \"fp16\": False,\n",
    "        \"fp16_opt_level\": \"O1\",\n",
    "        \"max_seq_length\": 128,\n",
    "        \"train_batch_size\": 16,\n",
    "        \"eval_batch_size\": 16,\n",
    "        \"gradient_accumulation_steps\": 1,\n",
    "        \"num_train_epochs\": 5,\n",
    "        \"weight_decay\": 0,\n",
    "        \"learning_rate\": 5e-6,\n",
    "        \"adam_epsilon\": 1e-9,\n",
    "        \"warmup_ratio\": 0.06,\n",
    "        \"warmup_steps\": 0,\n",
    "        \"max_grad_norm\": 1.0,\n",
    "        \"do_lower_case\": False,\n",
    "\n",
    "        \"logging_steps\": 50,\n",
    "        \"evaluate_during_training\": True,\n",
    "        \"evaluate_during_training_steps\": 0,\n",
    "        \"evaluate_during_training_verbose\": True,\n",
    "        \"use_cached_eval_features\": False,\n",
    "        \"save_eval_checkpoints\": False,\n",
    "        \"save_steps\": 0,\n",
    "        \"no_cache\": True,\n",
    "        \"save_model_every_epoch\": True,\n",
    "        \"tensorboard_dir\": None,\n",
    "\n",
    "        \"overwrite_output_dir\": True,\n",
    "        \"reprocess_input_data\": True,\n",
    "\n",
    "        \"n_gpu\": 1,\n",
    "        \"silent\": False,\n",
    "        \"use_multiprocessing\": True,\n",
    "\n",
    "        \"wandb_project\": None,\n",
    "        \"wandb_kwargs\": {},\n",
    "\n",
    "        \"use_early_stopping\": False,\n",
    "        \"early_stopping_patience\": 4,\n",
    "        \"early_stopping_delta\": 0,\n",
    "        \"early_stopping_metric\": \"f1\",\n",
    "        \"early_stopping_metric_minimize\": False,\n",
    "\n",
    "        \"manual_seed\": 9721,\n",
    "        \"encoding\": None,\n",
    "        \"config\": {},\n",
    "    }\n",
    "    return train_args\n",
    "\n",
    "def precision_macro(y_true, y_pred):\n",
    "    return sklearn.metrics.precision_score(y_true, y_pred, average='macro')\n",
    "def recall_macro(y_true, y_pred):\n",
    "    return sklearn.metrics.recall_score(y_true, y_pred, average='macro')\n",
    "def f1_macro(y_true, y_pred):\n",
    "    return sklearn.metrics.f1_score(y_true, y_pred, average='macro')\n",
    "\n",
    "def reformat_df(data_df):\n",
    "    df = data_df[['argument1', 'argument2', 'is_same_side']].copy()\n",
    "    df[\"is_same_side\"] = df[\"is_same_side\"].astype(int)\n",
    "    df = df.rename(columns={\"argument1\": \"text_a\", \"argument2\": \"text_b\", \"is_same_side\" : 'labels'})\n",
    "    return df"
   ]
  },
  {
   "cell_type": "code",
   "execution_count": 8,
   "metadata": {},
   "outputs": [],
   "source": [
    "data_dir = Path(\"data/pubdata\")\n",
    "# read datasets and reformat each datapoint to [arg1, arg2, label] format\n",
    "datasets = {\n",
    "    \"random\" : (reformat_df(pd.read_json(data_dir / \"exp2_random_train.jsonl\", lines=True)), reformat_df(pd.read_json(data_dir / \"exp2_random_test.jsonl\", lines=True))),\n",
    "    \"disjoint-within\" : (reformat_df(pd.read_json(data_dir / \"exp2_disjoint-within_train.jsonl\", lines=True)), reformat_df(pd.read_json(data_dir / \"exp2_disjoint-within_test.jsonl\", lines=True))),\n",
    "    \"disjoint-cross\" : (reformat_df(pd.read_json(data_dir / \"exp2_disjoint-cross_train.jsonl\", lines=True)), reformat_df(pd.read_json(data_dir / \"exp2_disjoint-cross_test.jsonl\", lines=True))),\n",
    "    \"single\" : (reformat_df(pd.read_json(data_dir / \"exp2_single_train.jsonl\", lines=True)), reformat_df(pd.read_json(data_dir / \"exp2_single_test.jsonl\", lines=True))),\n",
    "}"
   ]
  },
  {
   "cell_type": "code",
   "execution_count": 9,
   "metadata": {},
   "outputs": [
    {
     "data": {
      "text/plain": [
       "dict_keys(['random', 'disjoint-within', 'disjoint-cross', 'single'])"
      ]
     },
     "execution_count": 9,
     "metadata": {},
     "output_type": "execute_result"
    }
   ],
   "source": [
    "datasets.keys()"
   ]
  },
  {
   "cell_type": "code",
   "execution_count": 12,
   "metadata": {
    "scrolled": false
   },
   "outputs": [
    {
     "name": "stdout",
     "output_type": "stream",
     "text": [
      "******************************************\n",
      "random\n",
      "******************************************\n",
      "76304\n",
      "8479\n",
      "9421\n"
     ]
    },
    {
     "name": "stderr",
     "output_type": "stream",
     "text": [
      "Some weights of the model checkpoint at albert-base-v2 were not used when initializing AlbertForSequenceClassification: ['predictions.dense.weight', 'predictions.dense.bias', 'predictions.decoder.weight', 'predictions.LayerNorm.weight', 'predictions.decoder.bias', 'predictions.LayerNorm.bias', 'predictions.bias']\n",
      "- This IS expected if you are initializing AlbertForSequenceClassification from the checkpoint of a model trained on another task or with another architecture (e.g. initializing a BertForSequenceClassification model from a BertForPreTraining model).\n",
      "- This IS NOT expected if you are initializing AlbertForSequenceClassification from the checkpoint of a model that you expect to be exactly identical (initializing a BertForSequenceClassification model from a BertForSequenceClassification model).\n",
      "Some weights of AlbertForSequenceClassification were not initialized from the model checkpoint at albert-base-v2 and are newly initialized: ['classifier.bias', 'classifier.weight']\n",
      "You should probably TRAIN this model on a down-stream task to be able to use it for predictions and inference.\n",
      "INFO:simpletransformers.classification.classification_utils: Converting to features started. Cache is not used.\n"
     ]
    },
    {
     "data": {
      "application/vnd.jupyter.widget-view+json": {
       "model_id": "dfdb30cefc8444a9a242d2a728aad78f",
       "version_major": 2,
       "version_minor": 0
      },
      "text/plain": [
       "  0%|          | 0/76304 [00:00<?, ?it/s]"
      ]
     },
     "metadata": {},
     "output_type": "display_data"
    },
    {
     "data": {
      "application/vnd.jupyter.widget-view+json": {
       "model_id": "45a8d28ed87a48cab464f51c03668636",
       "version_major": 2,
       "version_minor": 0
      },
      "text/plain": [
       "Epoch:   0%|          | 0/5 [00:00<?, ?it/s]"
      ]
     },
     "metadata": {},
     "output_type": "display_data"
    },
    {
     "data": {
      "application/vnd.jupyter.widget-view+json": {
       "model_id": "e56af28d5ccf4141a71d3dfebf90ab35",
       "version_major": 2,
       "version_minor": 0
      },
      "text/plain": [
       "Running Epoch 0 of 5:   0%|          | 0/4769 [00:00<?, ?it/s]"
      ]
     },
     "metadata": {},
     "output_type": "display_data"
    },
    {
     "name": "stderr",
     "output_type": "stream",
     "text": [
      "INFO:simpletransformers.classification.classification_utils: Converting to features started. Cache is not used.\n"
     ]
    },
    {
     "data": {
      "application/vnd.jupyter.widget-view+json": {
       "model_id": "dd836e488721451f85a723342b80670d",
       "version_major": 2,
       "version_minor": 0
      },
      "text/plain": [
       "  0%|          | 0/8479 [00:00<?, ?it/s]"
      ]
     },
     "metadata": {},
     "output_type": "display_data"
    },
    {
     "name": "stderr",
     "output_type": "stream",
     "text": [
      "INFO:simpletransformers.classification.classification_model:{'mcc': 0.6814496545922396, 'tp': 3795, 'tn': 3337, 'fp': 640, 'fn': 707, 'auroc': 0.9394744737817753, 'auprc': 0.9537280051238292, 'precision': 0.8404332221549428, 'recall': 0.841016682217732, 'f1': 0.8406720542530206, 'eval_loss': 0.29213500810822224}\n"
     ]
    },
    {
     "data": {
      "application/vnd.jupyter.widget-view+json": {
       "model_id": "aeb97822774e42f591ebdb69a88e070b",
       "version_major": 2,
       "version_minor": 0
      },
      "text/plain": [
       "Running Epoch 1 of 5:   0%|          | 0/4769 [00:00<?, ?it/s]"
      ]
     },
     "metadata": {},
     "output_type": "display_data"
    },
    {
     "name": "stderr",
     "output_type": "stream",
     "text": [
      "INFO:simpletransformers.classification.classification_utils: Converting to features started. Cache is not used.\n"
     ]
    },
    {
     "data": {
      "application/vnd.jupyter.widget-view+json": {
       "model_id": "2ed01c795ff846d49666a9d2c1e3a355",
       "version_major": 2,
       "version_minor": 0
      },
      "text/plain": [
       "  0%|          | 0/8479 [00:00<?, ?it/s]"
      ]
     },
     "metadata": {},
     "output_type": "display_data"
    },
    {
     "name": "stderr",
     "output_type": "stream",
     "text": [
      "INFO:simpletransformers.classification.classification_model:{'mcc': 0.7185414862097396, 'tp': 3740, 'tn': 3536, 'fp': 441, 'fn': 762, 'auroc': 0.9493675986991842, 'auprc': 0.9604451415009901, 'precision': 0.8586155389072572, 'recall': 0.8599271443854137, 'f1': 0.8580378856069419, 'eval_loss': 0.2648077727699617}\n"
     ]
    },
    {
     "data": {
      "application/vnd.jupyter.widget-view+json": {
       "model_id": "f92999abdac447a485acb2f42a6b476f",
       "version_major": 2,
       "version_minor": 0
      },
      "text/plain": [
       "Running Epoch 2 of 5:   0%|          | 0/4769 [00:00<?, ?it/s]"
      ]
     },
     "metadata": {},
     "output_type": "display_data"
    },
    {
     "name": "stderr",
     "output_type": "stream",
     "text": [
      "INFO:simpletransformers.classification.classification_utils: Converting to features started. Cache is not used.\n"
     ]
    },
    {
     "data": {
      "application/vnd.jupyter.widget-view+json": {
       "model_id": "06b6005a652b4427ba4164cdb15e9fe5",
       "version_major": 2,
       "version_minor": 0
      },
      "text/plain": [
       "  0%|          | 0/8479 [00:00<?, ?it/s]"
      ]
     },
     "metadata": {},
     "output_type": "display_data"
    },
    {
     "name": "stderr",
     "output_type": "stream",
     "text": [
      "INFO:simpletransformers.classification.classification_model:{'mcc': 0.7290816740151909, 'tp': 3773, 'tn': 3549, 'fp': 428, 'fn': 729, 'auroc': 0.9532986317259382, 'auprc': 0.9635451054468063, 'precision': 0.863856381620218, 'recall': 0.8652265799336858, 'f1': 0.8634499281178272, 'eval_loss': 0.2626938223135921}\n"
     ]
    },
    {
     "data": {
      "application/vnd.jupyter.widget-view+json": {
       "model_id": "049a0590d7e145229eb063d2a734e92e",
       "version_major": 2,
       "version_minor": 0
      },
      "text/plain": [
       "Running Epoch 3 of 5:   0%|          | 0/4769 [00:00<?, ?it/s]"
      ]
     },
     "metadata": {},
     "output_type": "display_data"
    },
    {
     "name": "stderr",
     "output_type": "stream",
     "text": [
      "INFO:simpletransformers.classification.classification_utils: Converting to features started. Cache is not used.\n"
     ]
    },
    {
     "data": {
      "application/vnd.jupyter.widget-view+json": {
       "model_id": "e96de4426b574a28bef98dc4a23ad825",
       "version_major": 2,
       "version_minor": 0
      },
      "text/plain": [
       "  0%|          | 0/8479 [00:00<?, ?it/s]"
      ]
     },
     "metadata": {},
     "output_type": "display_data"
    },
    {
     "name": "stderr",
     "output_type": "stream",
     "text": [
      "INFO:simpletransformers.classification.classification_model:{'mcc': 0.7260108101463488, 'tp': 3883, 'tn': 3437, 'fp': 540, 'fn': 619, 'auroc': 0.9554943423574939, 'auprc': 0.9650183904622629, 'precision': 0.8626487539805597, 'recall': 0.8633624069184126, 'f1': 0.8629301051928303, 'eval_loss': 0.28563690136872094}\n"
     ]
    },
    {
     "data": {
      "application/vnd.jupyter.widget-view+json": {
       "model_id": "04b55f8eaea24e36ad5f9a63d4addd50",
       "version_major": 2,
       "version_minor": 0
      },
      "text/plain": [
       "Running Epoch 4 of 5:   0%|          | 0/4769 [00:00<?, ?it/s]"
      ]
     },
     "metadata": {},
     "output_type": "display_data"
    },
    {
     "name": "stderr",
     "output_type": "stream",
     "text": [
      "INFO:simpletransformers.classification.classification_utils: Converting to features started. Cache is not used.\n"
     ]
    },
    {
     "data": {
      "application/vnd.jupyter.widget-view+json": {
       "model_id": "06f83ef0c06548188b21e9f1cbcb637f",
       "version_major": 2,
       "version_minor": 0
      },
      "text/plain": [
       "  0%|          | 0/8479 [00:00<?, ?it/s]"
      ]
     },
     "metadata": {},
     "output_type": "display_data"
    },
    {
     "name": "stderr",
     "output_type": "stream",
     "text": [
      "INFO:simpletransformers.classification.classification_model:{'mcc': 0.7253249425923928, 'tp': 3851, 'tn': 3464, 'fp': 513, 'fn': 651, 'auroc': 0.9540566553998241, 'auprc': 0.9637149315324882, 'precision': 0.8621227974825508, 'recall': 0.8632029493890179, 'f1': 0.8624330798122517, 'eval_loss': 0.37386932921121424}\n",
      "INFO:simpletransformers.classification.classification_model: Training of albert model complete. Saved to reproduction_exp2/exp_random.\n",
      "INFO:simpletransformers.classification.classification_utils: Converting to features started. Cache is not used.\n"
     ]
    },
    {
     "data": {
      "application/vnd.jupyter.widget-view+json": {
       "model_id": "0fc6ab799c654be49127411202303eb3",
       "version_major": 2,
       "version_minor": 0
      },
      "text/plain": [
       "  0%|          | 0/9421 [00:00<?, ?it/s]"
      ]
     },
     "metadata": {},
     "output_type": "display_data"
    },
    {
     "data": {
      "application/vnd.jupyter.widget-view+json": {
       "model_id": "7b291ab1382a4c26afa80ce1f8610f3f",
       "version_major": 2,
       "version_minor": 0
      },
      "text/plain": [
       "Running Evaluation:   0%|          | 0/589 [00:00<?, ?it/s]"
      ]
     },
     "metadata": {},
     "output_type": "display_data"
    },
    {
     "name": "stderr",
     "output_type": "stream",
     "text": [
      "INFO:simpletransformers.classification.classification_model:{'mcc': 0.7282244336146353, 'tp': 4254, 'tn': 3873, 'fp': 439, 'fn': 855, 'auroc': 0.9524916650052964, 'auprc': 0.9638031263760609, 'acc': 0.8626472773590914, 'precision': 0.862809430505094, 'recall': 0.8654196811912188, 'f1': 0.8624222661801005, 'eval_loss': 0.2666956558301792}\n"
     ]
    },
    {
     "name": "stdout",
     "output_type": "stream",
     "text": [
      "{'mcc': 0.7282244336146353, 'tp': 4254, 'tn': 3873, 'fp': 439, 'fn': 855, 'auroc': 0.9524916650052964, 'auprc': 0.9638031263760609, 'acc': 0.8626472773590914, 'precision': 0.862809430505094, 'recall': 0.8654196811912188, 'f1': 0.8624222661801005, 'eval_loss': 0.2666956558301792}\n",
      "******************************************\n",
      "disjoint-within\n",
      "******************************************\n",
      "77352\n",
      "8595\n",
      "8257\n"
     ]
    },
    {
     "name": "stderr",
     "output_type": "stream",
     "text": [
      "Some weights of the model checkpoint at albert-base-v2 were not used when initializing AlbertForSequenceClassification: ['predictions.dense.weight', 'predictions.dense.bias', 'predictions.decoder.weight', 'predictions.LayerNorm.weight', 'predictions.decoder.bias', 'predictions.LayerNorm.bias', 'predictions.bias']\n",
      "- This IS expected if you are initializing AlbertForSequenceClassification from the checkpoint of a model trained on another task or with another architecture (e.g. initializing a BertForSequenceClassification model from a BertForPreTraining model).\n",
      "- This IS NOT expected if you are initializing AlbertForSequenceClassification from the checkpoint of a model that you expect to be exactly identical (initializing a BertForSequenceClassification model from a BertForSequenceClassification model).\n",
      "Some weights of AlbertForSequenceClassification were not initialized from the model checkpoint at albert-base-v2 and are newly initialized: ['classifier.bias', 'classifier.weight']\n",
      "You should probably TRAIN this model on a down-stream task to be able to use it for predictions and inference.\n",
      "INFO:simpletransformers.classification.classification_utils: Converting to features started. Cache is not used.\n"
     ]
    },
    {
     "data": {
      "application/vnd.jupyter.widget-view+json": {
       "model_id": "e26b1c7f8f194c2393f123e4238ae025",
       "version_major": 2,
       "version_minor": 0
      },
      "text/plain": [
       "  0%|          | 0/77352 [00:00<?, ?it/s]"
      ]
     },
     "metadata": {},
     "output_type": "display_data"
    },
    {
     "data": {
      "application/vnd.jupyter.widget-view+json": {
       "model_id": "041fcd7ffee24e07a7c791025558e419",
       "version_major": 2,
       "version_minor": 0
      },
      "text/plain": [
       "Epoch:   0%|          | 0/5 [00:00<?, ?it/s]"
      ]
     },
     "metadata": {},
     "output_type": "display_data"
    },
    {
     "data": {
      "application/vnd.jupyter.widget-view+json": {
       "model_id": "e6c7c5e9fc884994ade4163f2bac825d",
       "version_major": 2,
       "version_minor": 0
      },
      "text/plain": [
       "Running Epoch 0 of 5:   0%|          | 0/4835 [00:00<?, ?it/s]"
      ]
     },
     "metadata": {},
     "output_type": "display_data"
    },
    {
     "name": "stderr",
     "output_type": "stream",
     "text": [
      "INFO:simpletransformers.classification.classification_utils: Converting to features started. Cache is not used.\n"
     ]
    },
    {
     "data": {
      "application/vnd.jupyter.widget-view+json": {
       "model_id": "16cab852e67e48588aa5f92f57fe3d59",
       "version_major": 2,
       "version_minor": 0
      },
      "text/plain": [
       "  0%|          | 0/8595 [00:00<?, ?it/s]"
      ]
     },
     "metadata": {},
     "output_type": "display_data"
    },
    {
     "name": "stderr",
     "output_type": "stream",
     "text": [
      "INFO:simpletransformers.classification.classification_model:{'mcc': 0.6829090349396677, 'tp': 3652, 'tn': 3558, 'fp': 453, 'fn': 932, 'auroc': 0.9385366888090907, 'auprc': 0.9514391373099557, 'precision': 0.8410371945777462, 'recall': 0.8418723510346547, 'f1': 0.8388405260832679, 'eval_loss': 0.31169331541499573}\n"
     ]
    },
    {
     "data": {
      "application/vnd.jupyter.widget-view+json": {
       "model_id": "bb548a34f41f4400b4f47b0ef3169f59",
       "version_major": 2,
       "version_minor": 0
      },
      "text/plain": [
       "Running Epoch 1 of 5:   0%|          | 0/4835 [00:00<?, ?it/s]"
      ]
     },
     "metadata": {},
     "output_type": "display_data"
    },
    {
     "name": "stderr",
     "output_type": "stream",
     "text": [
      "INFO:simpletransformers.classification.classification_utils: Converting to features started. Cache is not used.\n"
     ]
    },
    {
     "data": {
      "application/vnd.jupyter.widget-view+json": {
       "model_id": "e7ea9da38f0947f196b82a3364b65b9d",
       "version_major": 2,
       "version_minor": 0
      },
      "text/plain": [
       "  0%|          | 0/8595 [00:00<?, ?it/s]"
      ]
     },
     "metadata": {},
     "output_type": "display_data"
    },
    {
     "name": "stderr",
     "output_type": "stream",
     "text": [
      "INFO:simpletransformers.classification.classification_model:{'mcc': 0.7011549586340383, 'tp': 3899, 'tn': 3415, 'fp': 596, 'fn': 685, 'auroc': 0.9483125429936784, 'auprc': 0.9593098221404864, 'precision': 0.8501675303182398, 'recall': 0.8509879082523062, 'f1': 0.8504857477214521, 'eval_loss': 0.28558715313091376}\n"
     ]
    },
    {
     "data": {
      "application/vnd.jupyter.widget-view+json": {
       "model_id": "33d20e80ed6140088937da4cf8e4a646",
       "version_major": 2,
       "version_minor": 0
      },
      "text/plain": [
       "Running Epoch 2 of 5:   0%|          | 0/4835 [00:00<?, ?it/s]"
      ]
     },
     "metadata": {},
     "output_type": "display_data"
    },
    {
     "name": "stderr",
     "output_type": "stream",
     "text": [
      "INFO:simpletransformers.classification.classification_utils: Converting to features started. Cache is not used.\n"
     ]
    },
    {
     "data": {
      "application/vnd.jupyter.widget-view+json": {
       "model_id": "c659ab1ba7424bf48326d1d80cc9006d",
       "version_major": 2,
       "version_minor": 0
      },
      "text/plain": [
       "  0%|          | 0/8595 [00:00<?, ?it/s]"
      ]
     },
     "metadata": {},
     "output_type": "display_data"
    },
    {
     "name": "stderr",
     "output_type": "stream",
     "text": [
      "INFO:simpletransformers.classification.classification_model:{'mcc': 0.7363947380705953, 'tp': 3840, 'tn': 3611, 'fp': 400, 'fn': 744, 'auroc': 0.9556054782593939, 'auprc': 0.9651131876628362, 'precision': 0.8674111301258585, 'recall': 0.868985290451259, 'f1': 0.8668048087399479, 'eval_loss': 0.25711316882535734}\n"
     ]
    },
    {
     "data": {
      "application/vnd.jupyter.widget-view+json": {
       "model_id": "bc63f7ef5b2749d79371adc3f2980206",
       "version_major": 2,
       "version_minor": 0
      },
      "text/plain": [
       "Running Epoch 3 of 5:   0%|          | 0/4835 [00:00<?, ?it/s]"
      ]
     },
     "metadata": {},
     "output_type": "display_data"
    },
    {
     "name": "stderr",
     "output_type": "stream",
     "text": [
      "INFO:simpletransformers.classification.classification_utils: Converting to features started. Cache is not used.\n"
     ]
    },
    {
     "data": {
      "application/vnd.jupyter.widget-view+json": {
       "model_id": "35aa59f293cb46f3b41498e73e5867f9",
       "version_major": 2,
       "version_minor": 0
      },
      "text/plain": [
       "  0%|          | 0/8595 [00:00<?, ?it/s]"
      ]
     },
     "metadata": {},
     "output_type": "display_data"
    },
    {
     "name": "stderr",
     "output_type": "stream",
     "text": [
      "INFO:simpletransformers.classification.classification_model:{'mcc': 0.728783639290622, 'tp': 3867, 'tn': 3557, 'fp': 454, 'fn': 717, 'auroc': 0.9565948495476881, 'auprc': 0.9656534804837582, 'precision': 0.8635865943785651, 'recall': 0.8651988282223884, 'f1': 0.8635805357767924, 'eval_loss': 0.2876879551361807}\n"
     ]
    },
    {
     "data": {
      "application/vnd.jupyter.widget-view+json": {
       "model_id": "af6f4ae7e34948a9b3746d414d9c0f0f",
       "version_major": 2,
       "version_minor": 0
      },
      "text/plain": [
       "Running Epoch 4 of 5:   0%|          | 0/4835 [00:00<?, ?it/s]"
      ]
     },
     "metadata": {},
     "output_type": "display_data"
    },
    {
     "name": "stderr",
     "output_type": "stream",
     "text": [
      "INFO:simpletransformers.classification.classification_utils: Converting to features started. Cache is not used.\n"
     ]
    },
    {
     "data": {
      "application/vnd.jupyter.widget-view+json": {
       "model_id": "b44f777dbd564408b9264ba7d5527c63",
       "version_major": 2,
       "version_minor": 0
      },
      "text/plain": [
       "  0%|          | 0/8595 [00:00<?, ?it/s]"
      ]
     },
     "metadata": {},
     "output_type": "display_data"
    },
    {
     "name": "stderr",
     "output_type": "stream",
     "text": [
      "INFO:simpletransformers.classification.classification_model:{'mcc': 0.7352072433493481, 'tp': 3946, 'tn': 3512, 'fp': 499, 'fn': 638, 'auroc': 0.9569791004493315, 'auprc': 0.965691995487493, 'precision': 0.8670020464309431, 'recall': 0.8682061829967589, 'f1': 0.8673756358241111, 'eval_loss': 0.3790404040323783}\n",
      "INFO:simpletransformers.classification.classification_model: Training of albert model complete. Saved to reproduction_exp2/exp_disjoint-within.\n",
      "INFO:simpletransformers.classification.classification_utils: Converting to features started. Cache is not used.\n"
     ]
    },
    {
     "data": {
      "application/vnd.jupyter.widget-view+json": {
       "model_id": "3317e726336742ff8a9c348e246dc223",
       "version_major": 2,
       "version_minor": 0
      },
      "text/plain": [
       "  0%|          | 0/8257 [00:00<?, ?it/s]"
      ]
     },
     "metadata": {},
     "output_type": "display_data"
    },
    {
     "data": {
      "application/vnd.jupyter.widget-view+json": {
       "model_id": "68b67321495f41ed85ff2f2e9f421c31",
       "version_major": 2,
       "version_minor": 0
      },
      "text/plain": [
       "Running Evaluation:   0%|          | 0/517 [00:00<?, ?it/s]"
      ]
     },
     "metadata": {},
     "output_type": "display_data"
    },
    {
     "name": "stderr",
     "output_type": "stream",
     "text": [
      "INFO:simpletransformers.classification.classification_model:{'mcc': 0.23449190072302717, 'tp': 2791, 'tn': 2316, 'fp': 1589, 'fn': 1561, 'auroc': 0.6366618494388793, 'auprc': 0.674948356264794, 'acc': 0.6185055104759598, 'precision': 0.6172918558457972, 'recall': 0.6172000628436394, 'f1': 0.6172388199131793, 'eval_loss': 1.9390167407475312}\n"
     ]
    },
    {
     "name": "stdout",
     "output_type": "stream",
     "text": [
      "{'mcc': 0.23449190072302717, 'tp': 2791, 'tn': 2316, 'fp': 1589, 'fn': 1561, 'auroc': 0.6366618494388793, 'auprc': 0.674948356264794, 'acc': 0.6185055104759598, 'precision': 0.6172918558457972, 'recall': 0.6172000628436394, 'f1': 0.6172388199131793, 'eval_loss': 1.9390167407475312}\n",
      "******************************************\n",
      "disjoint-cross\n",
      "******************************************\n",
      "54325\n",
      "6037\n",
      "33842\n"
     ]
    },
    {
     "name": "stderr",
     "output_type": "stream",
     "text": [
      "Some weights of the model checkpoint at albert-base-v2 were not used when initializing AlbertForSequenceClassification: ['predictions.dense.weight', 'predictions.dense.bias', 'predictions.decoder.weight', 'predictions.LayerNorm.weight', 'predictions.decoder.bias', 'predictions.LayerNorm.bias', 'predictions.bias']\n",
      "- This IS expected if you are initializing AlbertForSequenceClassification from the checkpoint of a model trained on another task or with another architecture (e.g. initializing a BertForSequenceClassification model from a BertForPreTraining model).\n",
      "- This IS NOT expected if you are initializing AlbertForSequenceClassification from the checkpoint of a model that you expect to be exactly identical (initializing a BertForSequenceClassification model from a BertForSequenceClassification model).\n",
      "Some weights of AlbertForSequenceClassification were not initialized from the model checkpoint at albert-base-v2 and are newly initialized: ['classifier.bias', 'classifier.weight']\n",
      "You should probably TRAIN this model on a down-stream task to be able to use it for predictions and inference.\n",
      "INFO:simpletransformers.classification.classification_utils: Converting to features started. Cache is not used.\n"
     ]
    },
    {
     "data": {
      "application/vnd.jupyter.widget-view+json": {
       "model_id": "c38861ac4dc04adaaa4089e101a3ccb1",
       "version_major": 2,
       "version_minor": 0
      },
      "text/plain": [
       "  0%|          | 0/54325 [00:00<?, ?it/s]"
      ]
     },
     "metadata": {},
     "output_type": "display_data"
    },
    {
     "data": {
      "application/vnd.jupyter.widget-view+json": {
       "model_id": "4672c016ee644dd7a670a2c51f95d042",
       "version_major": 2,
       "version_minor": 0
      },
      "text/plain": [
       "Epoch:   0%|          | 0/5 [00:00<?, ?it/s]"
      ]
     },
     "metadata": {},
     "output_type": "display_data"
    },
    {
     "data": {
      "application/vnd.jupyter.widget-view+json": {
       "model_id": "e0e5dae0570647faa553d2508c31ce87",
       "version_major": 2,
       "version_minor": 0
      },
      "text/plain": [
       "Running Epoch 0 of 5:   0%|          | 0/3396 [00:00<?, ?it/s]"
      ]
     },
     "metadata": {},
     "output_type": "display_data"
    },
    {
     "name": "stderr",
     "output_type": "stream",
     "text": [
      "INFO:simpletransformers.classification.classification_utils: Converting to features started. Cache is not used.\n"
     ]
    },
    {
     "data": {
      "application/vnd.jupyter.widget-view+json": {
       "model_id": "b6b9dbcb83984ca28142b8b66e0b26de",
       "version_major": 2,
       "version_minor": 0
      },
      "text/plain": [
       "  0%|          | 0/6037 [00:00<?, ?it/s]"
      ]
     },
     "metadata": {},
     "output_type": "display_data"
    },
    {
     "name": "stderr",
     "output_type": "stream",
     "text": [
      "INFO:simpletransformers.classification.classification_model:{'mcc': 0.5782835868661135, 'tp': 2684, 'tn': 2064, 'fp': 881, 'fn': 408, 'auroc': 0.9130571363307907, 'auprc': 0.9277860816125539, 'precision': 0.7939133158131237, 'recall': 0.784447734116412, 'f1': 0.784207323990656, 'eval_loss': 0.3497824343857626}\n"
     ]
    },
    {
     "data": {
      "application/vnd.jupyter.widget-view+json": {
       "model_id": "e945bc982d874741a93c2eef5f87001e",
       "version_major": 2,
       "version_minor": 0
      },
      "text/plain": [
       "Running Epoch 1 of 5:   0%|          | 0/3396 [00:00<?, ?it/s]"
      ]
     },
     "metadata": {},
     "output_type": "display_data"
    },
    {
     "name": "stderr",
     "output_type": "stream",
     "text": [
      "INFO:simpletransformers.classification.classification_utils: Converting to features started. Cache is not used.\n"
     ]
    },
    {
     "data": {
      "application/vnd.jupyter.widget-view+json": {
       "model_id": "f19f3b4e804343e3b2e04c115b43eb71",
       "version_major": 2,
       "version_minor": 0
      },
      "text/plain": [
       "  0%|          | 0/6037 [00:00<?, ?it/s]"
      ]
     },
     "metadata": {},
     "output_type": "display_data"
    },
    {
     "name": "stderr",
     "output_type": "stream",
     "text": [
      "INFO:simpletransformers.classification.classification_model:{'mcc': 0.6846347389679023, 'tp': 2256, 'tn': 2774, 'fp': 171, 'fn': 836, 'auroc': 0.9337391307212656, 'auprc': 0.9440742554015107, 'precision': 0.8489818489363086, 'recall': 0.8357801610816675, 'f1': 0.8319581104537421, 'eval_loss': 0.3022963976063741}\n"
     ]
    },
    {
     "data": {
      "application/vnd.jupyter.widget-view+json": {
       "model_id": "5184345e75cd42fb9163f1e5679607a1",
       "version_major": 2,
       "version_minor": 0
      },
      "text/plain": [
       "Running Epoch 2 of 5:   0%|          | 0/3396 [00:00<?, ?it/s]"
      ]
     },
     "metadata": {},
     "output_type": "display_data"
    },
    {
     "name": "stderr",
     "output_type": "stream",
     "text": [
      "INFO:simpletransformers.classification.classification_utils: Converting to features started. Cache is not used.\n"
     ]
    },
    {
     "data": {
      "application/vnd.jupyter.widget-view+json": {
       "model_id": "9fc8c3f84ed6430da0681a210eb702a2",
       "version_major": 2,
       "version_minor": 0
      },
      "text/plain": [
       "  0%|          | 0/6037 [00:00<?, ?it/s]"
      ]
     },
     "metadata": {},
     "output_type": "display_data"
    },
    {
     "name": "stderr",
     "output_type": "stream",
     "text": [
      "INFO:simpletransformers.classification.classification_model:{'mcc': 0.6892754588521407, 'tp': 2577, 'tn': 2521, 'fp': 424, 'fn': 515, 'auroc': 0.9424249995058172, 'auprc': 0.9512877208700724, 'precision': 0.8445413342675849, 'recall': 0.8447341515538209, 'f1': 0.8444457835500916, 'eval_loss': 0.2784372016235634}\n"
     ]
    },
    {
     "data": {
      "application/vnd.jupyter.widget-view+json": {
       "model_id": "1cf8da30de184389991f695799b9c222",
       "version_major": 2,
       "version_minor": 0
      },
      "text/plain": [
       "Running Epoch 3 of 5:   0%|          | 0/3396 [00:00<?, ?it/s]"
      ]
     },
     "metadata": {},
     "output_type": "display_data"
    },
    {
     "name": "stderr",
     "output_type": "stream",
     "text": [
      "INFO:simpletransformers.classification.classification_utils: Converting to features started. Cache is not used.\n"
     ]
    },
    {
     "data": {
      "application/vnd.jupyter.widget-view+json": {
       "model_id": "857c126f0a694449b99c106fc2a1af42",
       "version_major": 2,
       "version_minor": 0
      },
      "text/plain": [
       "  0%|          | 0/6037 [00:00<?, ?it/s]"
      ]
     },
     "metadata": {},
     "output_type": "display_data"
    },
    {
     "name": "stderr",
     "output_type": "stream",
     "text": [
      "INFO:simpletransformers.classification.classification_model:{'mcc': 0.7021168693460281, 'tp': 2547, 'tn': 2586, 'fp': 359, 'fn': 545, 'auroc': 0.9449205134231062, 'auprc': 0.9535366441891193, 'precision': 0.8511983488604837, 'recall': 0.8509185762260678, 'f1': 0.8502505004411169, 'eval_loss': 0.30437838313756166}\n"
     ]
    },
    {
     "data": {
      "application/vnd.jupyter.widget-view+json": {
       "model_id": "e05271b4aac8411bb4c868a807195b30",
       "version_major": 2,
       "version_minor": 0
      },
      "text/plain": [
       "Running Epoch 4 of 5:   0%|          | 0/3396 [00:00<?, ?it/s]"
      ]
     },
     "metadata": {},
     "output_type": "display_data"
    },
    {
     "name": "stderr",
     "output_type": "stream",
     "text": [
      "INFO:simpletransformers.classification.classification_utils: Converting to features started. Cache is not used.\n"
     ]
    },
    {
     "data": {
      "application/vnd.jupyter.widget-view+json": {
       "model_id": "516947fe769a416fbb7d51e79a728806",
       "version_major": 2,
       "version_minor": 0
      },
      "text/plain": [
       "  0%|          | 0/6037 [00:00<?, ?it/s]"
      ]
     },
     "metadata": {},
     "output_type": "display_data"
    },
    {
     "name": "stderr",
     "output_type": "stream",
     "text": [
      "INFO:simpletransformers.classification.classification_model:{'mcc': 0.7027539891334366, 'tp': 2572, 'tn': 2565, 'fp': 380, 'fn': 520, 'auroc': 0.9450777734094449, 'auprc': 0.9534961304505646, 'precision': 0.8513580881351763, 'recall': 0.8513959020156074, 'f1': 0.8509191303574779, 'eval_loss': 0.35667857346395965}\n",
      "INFO:simpletransformers.classification.classification_model: Training of albert model complete. Saved to reproduction_exp2/exp_disjoint-cross.\n",
      "INFO:simpletransformers.classification.classification_utils: Converting to features started. Cache is not used.\n"
     ]
    },
    {
     "data": {
      "application/vnd.jupyter.widget-view+json": {
       "model_id": "a2f45cf94c0a4569ab78fb702d580b84",
       "version_major": 2,
       "version_minor": 0
      },
      "text/plain": [
       "  0%|          | 0/33842 [00:00<?, ?it/s]"
      ]
     },
     "metadata": {},
     "output_type": "display_data"
    },
    {
     "data": {
      "application/vnd.jupyter.widget-view+json": {
       "model_id": "14deca65c3d24995b25cb235be7adebf",
       "version_major": 2,
       "version_minor": 0
      },
      "text/plain": [
       "Running Evaluation:   0%|          | 0/2116 [00:00<?, ?it/s]"
      ]
     },
     "metadata": {},
     "output_type": "display_data"
    },
    {
     "name": "stderr",
     "output_type": "stream",
     "text": [
      "INFO:simpletransformers.classification.classification_model:{'mcc': 0.23811412006305122, 'tp': 11799, 'tn': 9103, 'fp': 5139, 'fn': 7801, 'auroc': 0.6375449249704095, 'auprc': 0.7492048581413256, 'acc': 0.6176348915548726, 'precision': 0.617555478634615, 'recall': 0.6205778217058484, 'f1': 0.6151927491752051, 'eval_loss': 1.7339432507763606}\n"
     ]
    },
    {
     "name": "stdout",
     "output_type": "stream",
     "text": [
      "{'mcc': 0.23811412006305122, 'tp': 11799, 'tn': 9103, 'fp': 5139, 'fn': 7801, 'auroc': 0.6375449249704095, 'auprc': 0.7492048581413256, 'acc': 0.6176348915548726, 'precision': 0.617555478634615, 'recall': 0.6205778217058484, 'f1': 0.6151927491752051, 'eval_loss': 1.7339432507763606}\n",
      "******************************************\n",
      "single\n",
      "******************************************\n",
      "74531\n",
      "8282\n",
      "11391\n"
     ]
    },
    {
     "name": "stderr",
     "output_type": "stream",
     "text": [
      "Some weights of the model checkpoint at albert-base-v2 were not used when initializing AlbertForSequenceClassification: ['predictions.dense.weight', 'predictions.dense.bias', 'predictions.decoder.weight', 'predictions.LayerNorm.weight', 'predictions.decoder.bias', 'predictions.LayerNorm.bias', 'predictions.bias']\n",
      "- This IS expected if you are initializing AlbertForSequenceClassification from the checkpoint of a model trained on another task or with another architecture (e.g. initializing a BertForSequenceClassification model from a BertForPreTraining model).\n",
      "- This IS NOT expected if you are initializing AlbertForSequenceClassification from the checkpoint of a model that you expect to be exactly identical (initializing a BertForSequenceClassification model from a BertForSequenceClassification model).\n",
      "Some weights of AlbertForSequenceClassification were not initialized from the model checkpoint at albert-base-v2 and are newly initialized: ['classifier.bias', 'classifier.weight']\n",
      "You should probably TRAIN this model on a down-stream task to be able to use it for predictions and inference.\n",
      "INFO:simpletransformers.classification.classification_utils: Converting to features started. Cache is not used.\n"
     ]
    },
    {
     "data": {
      "application/vnd.jupyter.widget-view+json": {
       "model_id": "b21bcd4a6cd24cb4802f8db7b89a56e2",
       "version_major": 2,
       "version_minor": 0
      },
      "text/plain": [
       "  0%|          | 0/74531 [00:00<?, ?it/s]"
      ]
     },
     "metadata": {},
     "output_type": "display_data"
    },
    {
     "data": {
      "application/vnd.jupyter.widget-view+json": {
       "model_id": "07b21800a118447c8ceafe2ef8a2df4d",
       "version_major": 2,
       "version_minor": 0
      },
      "text/plain": [
       "Epoch:   0%|          | 0/5 [00:00<?, ?it/s]"
      ]
     },
     "metadata": {},
     "output_type": "display_data"
    },
    {
     "data": {
      "application/vnd.jupyter.widget-view+json": {
       "model_id": "ff09556fcda245a1a0ee15361d09d682",
       "version_major": 2,
       "version_minor": 0
      },
      "text/plain": [
       "Running Epoch 0 of 5:   0%|          | 0/4659 [00:00<?, ?it/s]"
      ]
     },
     "metadata": {},
     "output_type": "display_data"
    },
    {
     "name": "stderr",
     "output_type": "stream",
     "text": [
      "INFO:simpletransformers.classification.classification_utils: Converting to features started. Cache is not used.\n"
     ]
    },
    {
     "data": {
      "application/vnd.jupyter.widget-view+json": {
       "model_id": "4cf308a6ecb3459bbf523e0fa35d1d0e",
       "version_major": 2,
       "version_minor": 0
      },
      "text/plain": [
       "  0%|          | 0/8282 [00:00<?, ?it/s]"
      ]
     },
     "metadata": {},
     "output_type": "display_data"
    },
    {
     "name": "stderr",
     "output_type": "stream",
     "text": [
      "INFO:simpletransformers.classification.classification_model:{'mcc': 0.6737680981404218, 'tp': 4395, 'tn': 2517, 'fp': 1143, 'fn': 227, 'auroc': 0.9496419180777134, 'auprc': 0.9631230296627122, 'precision': 0.8554409265640941, 'recall': 0.8192959899553809, 'f1': 0.8256143429057627, 'eval_loss': 0.2687505466726871}\n"
     ]
    },
    {
     "data": {
      "application/vnd.jupyter.widget-view+json": {
       "model_id": "48cc81a254a54874ac5fc7deeda2b414",
       "version_major": 2,
       "version_minor": 0
      },
      "text/plain": [
       "Running Epoch 1 of 5:   0%|          | 0/4659 [00:00<?, ?it/s]"
      ]
     },
     "metadata": {},
     "output_type": "display_data"
    },
    {
     "name": "stderr",
     "output_type": "stream",
     "text": [
      "INFO:simpletransformers.classification.classification_utils: Converting to features started. Cache is not used.\n"
     ]
    },
    {
     "data": {
      "application/vnd.jupyter.widget-view+json": {
       "model_id": "3e0cb814a97b431fb08780dfdaf80bea",
       "version_major": 2,
       "version_minor": 0
      },
      "text/plain": [
       "  0%|          | 0/8282 [00:00<?, ?it/s]"
      ]
     },
     "metadata": {},
     "output_type": "display_data"
    },
    {
     "name": "stderr",
     "output_type": "stream",
     "text": [
      "INFO:simpletransformers.classification.classification_model:{'mcc': 0.7542530028484753, 'tp': 4076, 'tn': 3199, 'fp': 461, 'fn': 546, 'auroc': 0.9640727229950368, 'auprc': 0.9738934959473258, 'precision': 0.8762983073750821, 'recall': 0.877956518243705, 'f1': 0.8770321514007284, 'eval_loss': 0.2304525551778124}\n"
     ]
    },
    {
     "data": {
      "application/vnd.jupyter.widget-view+json": {
       "model_id": "abebaad8271b48b28d756bfbff558186",
       "version_major": 2,
       "version_minor": 0
      },
      "text/plain": [
       "Running Epoch 2 of 5:   0%|          | 0/4659 [00:00<?, ?it/s]"
      ]
     },
     "metadata": {},
     "output_type": "display_data"
    },
    {
     "name": "stderr",
     "output_type": "stream",
     "text": [
      "INFO:simpletransformers.classification.classification_utils: Converting to features started. Cache is not used.\n"
     ]
    },
    {
     "data": {
      "application/vnd.jupyter.widget-view+json": {
       "model_id": "d21b20e92c37494da1aea3c9e8eaf038",
       "version_major": 2,
       "version_minor": 0
      },
      "text/plain": [
       "  0%|          | 0/8282 [00:00<?, ?it/s]"
      ]
     },
     "metadata": {},
     "output_type": "display_data"
    },
    {
     "name": "stderr",
     "output_type": "stream",
     "text": [
      "INFO:simpletransformers.classification.classification_model:{'mcc': 0.7752777888766406, 'tp': 3836, 'tn': 3478, 'fp': 182, 'fn': 786, 'auroc': 0.9680227670939413, 'auprc': 0.9767542325602131, 'precision': 0.8851849370142053, 'recall': 0.8901084856696295, 'f1': 0.8829012189877914, 'eval_loss': 0.21871079968533058}\n"
     ]
    },
    {
     "data": {
      "application/vnd.jupyter.widget-view+json": {
       "model_id": "ef078cf7fffc4f2bbd044f434780004f",
       "version_major": 2,
       "version_minor": 0
      },
      "text/plain": [
       "Running Epoch 3 of 5:   0%|          | 0/4659 [00:00<?, ?it/s]"
      ]
     },
     "metadata": {},
     "output_type": "display_data"
    },
    {
     "name": "stderr",
     "output_type": "stream",
     "text": [
      "INFO:simpletransformers.classification.classification_utils: Converting to features started. Cache is not used.\n"
     ]
    },
    {
     "data": {
      "application/vnd.jupyter.widget-view+json": {
       "model_id": "c1d0166fe95e4213aec87625e913f70b",
       "version_major": 2,
       "version_minor": 0
      },
      "text/plain": [
       "  0%|          | 0/8282 [00:00<?, ?it/s]"
      ]
     },
     "metadata": {},
     "output_type": "display_data"
    },
    {
     "name": "stderr",
     "output_type": "stream",
     "text": [
      "INFO:simpletransformers.classification.classification_model:{'mcc': 0.7761730542253251, 'tp': 4081, 'tn': 3280, 'fp': 380, 'fn': 541, 'auroc': 0.9691586390108604, 'auprc': 0.9775617195937127, 'precision': 0.886615666639152, 'recall': 0.8895629834032058, 'f1': 0.8877449500568233, 'eval_loss': 0.25932082220234165}\n"
     ]
    },
    {
     "data": {
      "application/vnd.jupyter.widget-view+json": {
       "model_id": "7194b81732764c14bc4078988d55beda",
       "version_major": 2,
       "version_minor": 0
      },
      "text/plain": [
       "Running Epoch 4 of 5:   0%|          | 0/4659 [00:00<?, ?it/s]"
      ]
     },
     "metadata": {},
     "output_type": "display_data"
    },
    {
     "name": "stderr",
     "output_type": "stream",
     "text": [
      "INFO:simpletransformers.classification.classification_utils: Converting to features started. Cache is not used.\n"
     ]
    },
    {
     "data": {
      "application/vnd.jupyter.widget-view+json": {
       "model_id": "0c33990d73464f0a85877175f43d0101",
       "version_major": 2,
       "version_minor": 0
      },
      "text/plain": [
       "  0%|          | 0/8282 [00:00<?, ?it/s]"
      ]
     },
     "metadata": {},
     "output_type": "display_data"
    },
    {
     "name": "stderr",
     "output_type": "stream",
     "text": [
      "INFO:simpletransformers.classification.classification_model:{'mcc': 0.7732191748588845, 'tp': 4076, 'tn': 3273, 'fp': 387, 'fn': 546, 'auroc': 0.9681846798277661, 'auprc': 0.9766034523040632, 'precision': 0.885158831477951, 'recall': 0.8880658078611914, 'f1': 0.8862769745380628, 'eval_loss': 0.35991413664889904}\n",
      "INFO:simpletransformers.classification.classification_model: Training of albert model complete. Saved to reproduction_exp2/exp_single.\n",
      "INFO:simpletransformers.classification.classification_utils: Converting to features started. Cache is not used.\n"
     ]
    },
    {
     "data": {
      "application/vnd.jupyter.widget-view+json": {
       "model_id": "c0240ef13b514e76a4eda7ce935d2c19",
       "version_major": 2,
       "version_minor": 0
      },
      "text/plain": [
       "  0%|          | 0/11391 [00:00<?, ?it/s]"
      ]
     },
     "metadata": {},
     "output_type": "display_data"
    },
    {
     "data": {
      "application/vnd.jupyter.widget-view+json": {
       "model_id": "0050e4716eab448b84bd5f97cf620dda",
       "version_major": 2,
       "version_minor": 0
      },
      "text/plain": [
       "Running Evaluation:   0%|          | 0/712 [00:00<?, ?it/s]"
      ]
     },
     "metadata": {},
     "output_type": "display_data"
    },
    {
     "name": "stderr",
     "output_type": "stream",
     "text": [
      "INFO:simpletransformers.classification.classification_model:{'mcc': 0.32557828784723963, 'tp': 2866, 'tn': 4772, 'fp': 1590, 'fn': 2163, 'auroc': 0.7299838084660681, 'auprc': 0.6933849794123881, 'acc': 0.6705293652883856, 'precision': 0.6656407795391679, 'recall': 0.6599866014462862, 'f1': 0.66103924972038, 'eval_loss': 0.7946493366626588}\n"
     ]
    },
    {
     "name": "stdout",
     "output_type": "stream",
     "text": [
      "{'mcc': 0.32557828784723963, 'tp': 2866, 'tn': 4772, 'fp': 1590, 'fn': 2163, 'auroc': 0.7299838084660681, 'auprc': 0.6933849794123881, 'acc': 0.6705293652883856, 'precision': 0.6656407795391679, 'recall': 0.6599866014462862, 'f1': 0.66103924972038, 'eval_loss': 0.7946493366626588}\n"
     ]
    }
   ],
   "source": [
    "# run experiments\n",
    "\n",
    "model_to_test = ('albert', 'albert-base-v2')\n",
    "\n",
    "for exp_name in datasets.keys():\n",
    "    \n",
    "    (train_df, test_df) = datasets[exp_name]\n",
    "    \n",
    "    # get training args\n",
    "    train_args = get_train_args(\"exp_\" + exp_name)\n",
    "    \n",
    "    print(\"******************************************\")\n",
    "    print(exp_name)\n",
    "    print(\"******************************************\")\n",
    "\n",
    "    # split a dev set from the training data\n",
    "    train_df, dev_df = train_test_split(train_df, test_size = 0.1, random_state = 9721)\n",
    "    print(len(train_df))\n",
    "    print(len(dev_df))\n",
    "    print(len(test_df))\n",
    "\n",
    "    # Create a ClassificationModel\n",
    "    model = ClassificationModel(model_to_test[0], model_to_test[1], num_labels=2, use_cuda=True, cuda_device=0, args=train_args)\n",
    "\n",
    "    # Train the model\n",
    "    model.train_model(train_df, eval_df=dev_df, precision=precision_macro, recall=recall_macro, f1=f1_macro)\n",
    "\n",
    "    # Eval best model\n",
    "    model = ClassificationModel(model_to_test[0], train_args['best_model_dir'], num_labels=2, use_cuda=True, cuda_device=0, args=train_args)\n",
    "    result, model_outputs, wrong_predictions = model.eval_model(\n",
    "        test_df, acc=sklearn.metrics.accuracy_score, precision=precision_macro, recall=recall_macro, f1=f1_macro\n",
    "    )\n",
    "    \n",
    "    print(result)"
   ]
  },
  {
   "cell_type": "code",
   "execution_count": null,
   "metadata": {},
   "outputs": [],
   "source": []
  }
 ],
 "metadata": {
  "kernelspec": {
   "display_name": "Python 3",
   "language": "python",
   "name": "python3"
  },
  "language_info": {
   "codemirror_mode": {
    "name": "ipython",
    "version": 3
   },
   "file_extension": ".py",
   "mimetype": "text/x-python",
   "name": "python",
   "nbconvert_exporter": "python",
   "pygments_lexer": "ipython3",
   "version": "3.6.12"
  }
 },
 "nbformat": 4,
 "nbformat_minor": 4
}
